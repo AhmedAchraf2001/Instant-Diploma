{
 "cells": [
  {
   "cell_type": "markdown",
   "id": "fa581a6e",
   "metadata": {},
   "source": [
    ">Task 3 : Apply Dimond Inhertance"
   ]
  },
  {
   "cell_type": "markdown",
   "id": "efdc3813",
   "metadata": {},
   "source": [
    "    A\n",
    "  /   \\\n",
    "B       C\n",
    "  \\   /\n",
    "    D"
   ]
  },
  {
   "cell_type": "code",
   "execution_count": 19,
   "id": "f54a18f4",
   "metadata": {},
   "outputs": [],
   "source": [
    "class Device:\n",
    "    def __init__(self):\n",
    "        self.name = None\n",
    "        self.power = None\n",
    "    def setName(self):\n",
    "        self.name = input(\"Entre the device name : \")\n",
    "    def getName(self):\n",
    "        print(f\"the device name is : {self.name}\")"
   ]
  },
  {
   "cell_type": "code",
   "execution_count": 20,
   "id": "e2c5eae2",
   "metadata": {},
   "outputs": [],
   "source": [
    "class scanner(Device): \n",
    "    def scan(self):\n",
    "        print(\"Entre ur paper u wanna scan\")"
   ]
  },
  {
   "cell_type": "code",
   "execution_count": 25,
   "id": "0b122e90",
   "metadata": {},
   "outputs": [],
   "source": [
    "class copier(Device):\n",
    "    def copy(self):\n",
    "        print(\"Entre ur paper u wanna copier and number of copies!\")"
   ]
  },
  {
   "cell_type": "code",
   "execution_count": 31,
   "id": "ae6fa1f8",
   "metadata": {},
   "outputs": [],
   "source": [
    "class printer(scanner, copier):\n",
    "    def printofUrComputer(self):\n",
    "        print(\"Entre ur file u wanna print it\")"
   ]
  }
 ],
 "metadata": {
  "kernelspec": {
   "display_name": "Python 3",
   "language": "python",
   "name": "python3"
  }
 },
 "nbformat": 4,
 "nbformat_minor": 5
}
