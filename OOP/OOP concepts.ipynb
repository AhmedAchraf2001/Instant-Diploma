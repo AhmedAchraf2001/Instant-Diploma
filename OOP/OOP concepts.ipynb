{
 "cells": [
  {
   "cell_type": "code",
   "execution_count": 65,
   "id": "bc1bd878",
   "metadata": {
    "ExecuteTime": {
     "end_time": "2021-11-26T12:18:27.179371Z",
     "start_time": "2021-11-26T12:18:27.163374Z"
    }
   },
   "outputs": [],
   "source": [
    "class Baccount: \n",
    "    \n",
    "    def __init__(self):\n",
    "        self.customer_name = None \n",
    "        self.__customer_credit =  None \n",
    "        self.__customer_password = None \n",
    "        self.__phonenumber = \"0100000000\"\n",
    "        self.getcustomerdata()\n",
    "        self.operate()\n",
    "\n",
    "    def get_phone(self):\n",
    "        if self.checkpassword():\n",
    "            print(self.__phonenumber)\n",
    "    \n",
    "    def set_phone(self):\n",
    "        if self.checkpassword():\n",
    "            self.__phonenumber = (input(\"please enter your new phone number: \"))\n",
    "    \n",
    "    def checkpassword(self):\n",
    "        password = int(input(\"please enter your password: \"))\n",
    "        if password == self.__customer_password:\n",
    "            return True\n",
    "        else:\n",
    "            return False\n",
    "        \n",
    "    def getcustomerdata(self):\n",
    "        self.customer_name = input(\"please enter your full name: \") \n",
    "        self.__customer_credit =  float(input(\"please enter your credit amount: \")) \n",
    "        self.__customer_password = int(input(\"please enter your password: \"))   \n",
    "    \n",
    "    \n",
    "    def add_deposite(self):\n",
    "        if self.checkpassword(): # True \n",
    "            newamount = float(input(\"please enter the deposite amount: \"))\n",
    "            self.__customer_credit += newamount\n",
    "            print(\"Success\")\n",
    "    \n",
    "    def withdraw(self):\n",
    "        if self.checkpassword():\n",
    "            cash = float(input(\"please enter the withdraw amount: \"))\n",
    "            if cash <= self.__customer_credit:\n",
    "                self.__customer_credit -= cash\n",
    "                self.__taxes()\n",
    "                print(\"successful , please take the money from the machine\")\n",
    "                print(\"your new credit is\", self.__customer_credit)\n",
    "            \n",
    "    \n",
    "    def check_balance(self):\n",
    "        if self.checkpassword():\n",
    "            print(\"your current balance is\", self.__customer_credit)\n",
    "            \n",
    "            \n",
    "    def changepassword(self):\n",
    "        password = int(input(\"please enter your password: \"))\n",
    "        if password == self.__customer_password:\n",
    "            self.__customer_password = int(input(\"please enter your new password: \"))\n",
    "            print(\"your password has been changed successfully!!\")\n",
    "        \n",
    "    \n",
    "    def __taxes(self):\n",
    "        self.__customer_credit -= 5\n",
    "            \n",
    "    def operate(self):\n",
    "        while True:\n",
    "            action = int(input(\"please enter what operation you want: \\n 1. add credit, 2. withdraw, 3. change password,  4. check balance,  5. Exit \"))\n",
    "            if action == 1:\n",
    "                self.add_deposite()\n",
    "            elif action == 2: \n",
    "                self.withdraw()\n",
    "            elif action == 3:\n",
    "                self.changepassword()\n",
    "            elif action == 4: \n",
    "                self.check_balance()\n",
    "            else:\n",
    "                break"
   ]
  },
  {
   "cell_type": "code",
   "execution_count": 66,
   "id": "d2643e7b",
   "metadata": {
    "ExecuteTime": {
     "end_time": "2021-11-26T12:18:37.335200Z",
     "start_time": "2021-11-26T12:18:29.299742Z"
    },
    "scrolled": true
   },
   "outputs": [
    {
     "name": "stdout",
     "output_type": "stream",
     "text": [
      "please enter your full name: Ahmed\n",
      "please enter your credit amount: 1\n",
      "please enter your password: 123\n",
      "please enter what operation you want: \n",
      " 1. add credit, 2. withdraw, 3. change password,  4. check balance,  5. Exit 5\n"
     ]
    }
   ],
   "source": [
    "newaccount = Baccount() #object "
   ]
  },
  {
   "cell_type": "code",
   "execution_count": 73,
   "id": "36a39901",
   "metadata": {
    "ExecuteTime": {
     "end_time": "2021-11-26T12:38:10.161798Z",
     "start_time": "2021-11-26T12:38:10.152798Z"
    }
   },
   "outputs": [],
   "source": [
    "#inheritance \n",
    "class CIB(Baccount):# inherit from Baccount\n",
    "    \n",
    "    def printname(self):\n",
    "        print(self.customer_name)"
   ]
  },
  {
   "cell_type": "code",
   "execution_count": 74,
   "id": "7737375c",
   "metadata": {
    "ExecuteTime": {
     "end_time": "2021-11-26T12:38:20.272797Z",
     "start_time": "2021-11-26T12:38:11.946803Z"
    }
   },
   "outputs": [
    {
     "name": "stdout",
     "output_type": "stream",
     "text": [
      "please enter your full name: Ahmed Hafez AI\n",
      "please enter your credit amount: 12\n",
      "please enter your password: 123\n",
      "please enter what operation you want: \n",
      " 1. add credit, 2. withdraw, 3. change password,  4. check balance,  5. Exit 5\n"
     ]
    }
   ],
   "source": [
    "newcib = CIB()"
   ]
  },
  {
   "cell_type": "code",
   "execution_count": 72,
   "id": "5be61df6",
   "metadata": {
    "ExecuteTime": {
     "end_time": "2021-11-26T12:37:24.912503Z",
     "start_time": "2021-11-26T12:37:16.916023Z"
    }
   },
   "outputs": [
    {
     "name": "stdout",
     "output_type": "stream",
     "text": [
      "please enter your password: 123\n",
      "0100000000\n"
     ]
    }
   ],
   "source": [
    "newcib.get_phone()"
   ]
  },
  {
   "cell_type": "code",
   "execution_count": 75,
   "id": "f11ac0b0",
   "metadata": {
    "ExecuteTime": {
     "end_time": "2021-11-26T12:38:26.480731Z",
     "start_time": "2021-11-26T12:38:26.476730Z"
    }
   },
   "outputs": [
    {
     "name": "stdout",
     "output_type": "stream",
     "text": [
      "Ahmed Hafez AI\n"
     ]
    }
   ],
   "source": [
    "newcib.printname()"
   ]
  },
  {
   "cell_type": "code",
   "execution_count": 76,
   "id": "ad5807b0",
   "metadata": {
    "ExecuteTime": {
     "end_time": "2021-11-26T12:38:59.009981Z",
     "start_time": "2021-11-26T12:38:58.990981Z"
    }
   },
   "outputs": [
    {
     "data": {
      "text/plain": [
       "__main__.CIB"
      ]
     },
     "execution_count": 76,
     "metadata": {},
     "output_type": "execute_result"
    }
   ],
   "source": [
    "type(newcib)"
   ]
  },
  {
   "cell_type": "code",
   "execution_count": 77,
   "id": "9649ce8b",
   "metadata": {
    "ExecuteTime": {
     "end_time": "2021-11-26T12:39:06.378226Z",
     "start_time": "2021-11-26T12:39:06.366226Z"
    }
   },
   "outputs": [
    {
     "data": {
      "text/plain": [
       "__main__.Baccount"
      ]
     },
     "execution_count": 77,
     "metadata": {},
     "output_type": "execute_result"
    }
   ],
   "source": [
    "type(newaccount)"
   ]
  },
  {
   "cell_type": "code",
   "execution_count": 82,
   "id": "79983c2d",
   "metadata": {
    "ExecuteTime": {
     "end_time": "2021-11-26T12:44:38.293700Z",
     "start_time": "2021-11-26T12:44:38.283701Z"
    }
   },
   "outputs": [],
   "source": [
    "class AhlyBank(CIB):\n",
    "    def get_phone(self):\n",
    "        print(\"12344567\")"
   ]
  },
  {
   "cell_type": "code",
   "execution_count": 83,
   "id": "05cf71c8",
   "metadata": {
    "ExecuteTime": {
     "end_time": "2021-11-26T12:44:44.677700Z",
     "start_time": "2021-11-26T12:44:38.809701Z"
    }
   },
   "outputs": [
    {
     "name": "stdout",
     "output_type": "stream",
     "text": [
      "please enter your full name: Ahmed\n",
      "please enter your credit amount: 1200\n",
      "please enter your password: 123\n",
      "please enter what operation you want: \n",
      " 1. add credit, 2. withdraw, 3. change password,  4. check balance,  5. Exit 5\n"
     ]
    }
   ],
   "source": [
    "a = AhlyBank()"
   ]
  },
  {
   "cell_type": "code",
   "execution_count": 84,
   "id": "d95e3770",
   "metadata": {
    "ExecuteTime": {
     "end_time": "2021-11-26T12:44:48.683703Z",
     "start_time": "2021-11-26T12:44:48.675703Z"
    }
   },
   "outputs": [
    {
     "name": "stdout",
     "output_type": "stream",
     "text": [
      "12344567\n"
     ]
    }
   ],
   "source": [
    "a.get_phone()"
   ]
  },
  {
   "cell_type": "code",
   "execution_count": 99,
   "id": "ee3f0dd7",
   "metadata": {
    "ExecuteTime": {
     "end_time": "2021-11-26T12:55:00.632482Z",
     "start_time": "2021-11-26T12:55:00.622482Z"
    }
   },
   "outputs": [],
   "source": [
    "# composition \n",
    "\n",
    "class composition:\n",
    "    \n",
    "    def __init__(self):\n",
    "        self.__attributes = dict()\n",
    "        self.__methods = dict()\n",
    "    \n",
    "    def addattribute(self, attname, attvalue):\n",
    "        self.__attributes[attname] = attvalue\n",
    "        \n",
    "    def printallatt(self):\n",
    "        for i in self.__attributes:\n",
    "            print(i , self.__attributes[i])\n",
    "\n",
    "    def deleteatt(self, attname):\n",
    "        del self.__attributes[attname]\n",
    "    \n",
    "    def changeatt(self, attname):\n",
    "        self.__attributes[attname] = input(f\"please enter the new value of {attname}\")\n",
    "        \n",
    "        \n",
    "    def addmethod(self, methodname , method):\n",
    "        self.__methods[methodname] = method\n",
    "    \n",
    "    def callmethod(self, methodname):\n",
    "        self.__methods[methodname]()"
   ]
  },
  {
   "cell_type": "code",
   "execution_count": 100,
   "id": "34e51cbf",
   "metadata": {
    "ExecuteTime": {
     "end_time": "2021-11-26T12:55:01.710109Z",
     "start_time": "2021-11-26T12:55:01.696109Z"
    }
   },
   "outputs": [],
   "source": [
    "obj = composition()"
   ]
  },
  {
   "cell_type": "code",
   "execution_count": 92,
   "id": "073743ab",
   "metadata": {
    "ExecuteTime": {
     "end_time": "2021-11-26T12:51:23.654393Z",
     "start_time": "2021-11-26T12:51:23.648394Z"
    }
   },
   "outputs": [],
   "source": [
    "obj.addattribute(\"Name\" , \"Ahmed\")"
   ]
  },
  {
   "cell_type": "code",
   "execution_count": 93,
   "id": "d4486098",
   "metadata": {
    "ExecuteTime": {
     "end_time": "2021-11-26T12:51:24.877394Z",
     "start_time": "2021-11-26T12:51:24.859392Z"
    }
   },
   "outputs": [],
   "source": [
    "obj.addattribute(\"Age\", 23)"
   ]
  },
  {
   "cell_type": "code",
   "execution_count": 94,
   "id": "98385523",
   "metadata": {
    "ExecuteTime": {
     "end_time": "2021-11-26T12:51:27.154111Z",
     "start_time": "2021-11-26T12:51:27.137113Z"
    }
   },
   "outputs": [
    {
     "name": "stdout",
     "output_type": "stream",
     "text": [
      "Name Ahmed\n",
      "Age 23\n"
     ]
    }
   ],
   "source": [
    "obj.printallatt()"
   ]
  },
  {
   "cell_type": "code",
   "execution_count": 95,
   "id": "1186e020",
   "metadata": {
    "ExecuteTime": {
     "end_time": "2021-11-26T12:51:34.447442Z",
     "start_time": "2021-11-26T12:51:34.444440Z"
    }
   },
   "outputs": [],
   "source": [
    "obj.deleteatt(\"Name\")"
   ]
  },
  {
   "cell_type": "code",
   "execution_count": 98,
   "id": "e402ecf3",
   "metadata": {
    "ExecuteTime": {
     "end_time": "2021-11-26T12:52:06.545192Z",
     "start_time": "2021-11-26T12:52:06.535192Z"
    }
   },
   "outputs": [
    {
     "name": "stdout",
     "output_type": "stream",
     "text": [
      "Age 24\n"
     ]
    }
   ],
   "source": [
    "obj.printallatt()"
   ]
  },
  {
   "cell_type": "code",
   "execution_count": 97,
   "id": "0e7ee097",
   "metadata": {
    "ExecuteTime": {
     "end_time": "2021-11-26T12:52:03.816170Z",
     "start_time": "2021-11-26T12:51:50.895217Z"
    }
   },
   "outputs": [
    {
     "name": "stdout",
     "output_type": "stream",
     "text": [
      "please enter the new value of Age24\n"
     ]
    }
   ],
   "source": [
    "obj.changeatt(\"Age\")"
   ]
  },
  {
   "cell_type": "code",
   "execution_count": 101,
   "id": "2393442f",
   "metadata": {
    "ExecuteTime": {
     "end_time": "2021-11-26T12:56:02.843335Z",
     "start_time": "2021-11-26T12:56:02.840333Z"
    }
   },
   "outputs": [],
   "source": [
    "def printsquare():\n",
    "    x = int(input())\n",
    "    print(x*x)\n",
    "\n",
    "obj.addmethod(\"printsquare\" , printsquare)\n"
   ]
  },
  {
   "cell_type": "code",
   "execution_count": 102,
   "id": "12dd8d20",
   "metadata": {
    "ExecuteTime": {
     "end_time": "2021-11-26T12:56:19.505743Z",
     "start_time": "2021-11-26T12:56:16.953463Z"
    }
   },
   "outputs": [
    {
     "name": "stdout",
     "output_type": "stream",
     "text": [
      "4\n",
      "16\n"
     ]
    }
   ],
   "source": [
    "obj.callmethod(\"printsquare\")"
   ]
  },
  {
   "cell_type": "code",
   "execution_count": null,
   "id": "27089fc9",
   "metadata": {},
   "outputs": [],
   "source": []
  }
 ],
 "metadata": {
  "kernelspec": {
   "display_name": "Python 3",
   "language": "python",
   "name": "python3"
  },
  "language_info": {
   "codemirror_mode": {
    "name": "ipython",
    "version": 3
   },
   "file_extension": ".py",
   "mimetype": "text/x-python",
   "name": "python",
   "nbconvert_exporter": "python",
   "pygments_lexer": "ipython3",
   "version": "3.8.5"
  },
  "toc": {
   "base_numbering": 1,
   "nav_menu": {},
   "number_sections": true,
   "sideBar": true,
   "skip_h1_title": false,
   "title_cell": "Table of Contents",
   "title_sidebar": "Contents",
   "toc_cell": false,
   "toc_position": {},
   "toc_section_display": true,
   "toc_window_display": false
  },
  "varInspector": {
   "cols": {
    "lenName": 16,
    "lenType": 16,
    "lenVar": 40
   },
   "kernels_config": {
    "python": {
     "delete_cmd_postfix": "",
     "delete_cmd_prefix": "del ",
     "library": "var_list.py",
     "varRefreshCmd": "print(var_dic_list())"
    },
    "r": {
     "delete_cmd_postfix": ") ",
     "delete_cmd_prefix": "rm(",
     "library": "var_list.r",
     "varRefreshCmd": "cat(var_dic_list()) "
    }
   },
   "types_to_exclude": [
    "module",
    "function",
    "builtin_function_or_method",
    "instance",
    "_Feature"
   ],
   "window_display": false
  }
 },
 "nbformat": 4,
 "nbformat_minor": 5
}
