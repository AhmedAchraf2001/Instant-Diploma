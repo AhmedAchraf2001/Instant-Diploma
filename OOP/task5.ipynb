{
 "cells": [
  {
   "cell_type": "code",
   "execution_count": null,
   "id": "21fdbb29",
   "metadata": {},
   "outputs": [],
   "source": [
    "from abc import ABCMeta, abstractmethod"
   ]
  },
  {
   "cell_type": "code",
   "execution_count": null,
   "id": "8e5f338b",
   "metadata": {},
   "outputs": [],
   "source": [
    "class Human(metaclass=ABCMeta):\n",
    "    def __init__(self):\n",
    "        self.name = None\n",
    "        self.age = None\n",
    "        self.__phoneNo = None\n",
    "    @abstractmethod\n",
    "    def setName(self):\n",
    "        pass\n",
    "    @abstractmethod\n",
    "    def getName(self):\n",
    "        pass\n",
    "    @abstractmethod\n",
    "    def setAge(self):\n",
    "        pass\n",
    "    @abstractmethod\n",
    "    def getAge(self):\n",
    "        pass\n",
    "    @abstractmethod\n",
    "    def setPhone(self):\n",
    "        pass\n",
    "    @abstractmethod\n",
    "    def getPhone(self):\n",
    "        pass"
   ]
  },
  {
   "cell_type": "code",
   "execution_count": null,
   "id": "93fe3b84",
   "metadata": {},
   "outputs": [],
   "source": [
    "class Nurse(Human):\n",
    "    def __init__(self):\n",
    "        super().__init__()\n",
    "        self.salary = None\n",
    "        self.setName()\n",
    "        self.setAge()\n",
    "        self.setPhone()\n",
    "    def setName(self):\n",
    "        self.name = input(\"Entre ur name : \")\n",
    "    def getName(self):\n",
    "        print(f\"Hello Nr {self.name}\")\n",
    "    def setAge(self):\n",
    "        self.age = input(\"Entre ur Age : \")\n",
    "    def getAge(self):\n",
    "        print(f\"ur age is : {self.age}\")\n",
    "    def setPhone(self):\n",
    "        self.__phone = input(\"Entre ur phone num : \")\n",
    "    def getPhone(self):\n",
    "        print(f\"ur phoneNo. is : {self.__phone}\")\n",
    "    def setSalary(self):\n",
    "        self.salary = input(\"Entre ur Salary : \")\n",
    "    def getSalary(self):\n",
    "        print(f\"ur Salary. is : {self.salary}\")"
   ]
  },
  {
   "cell_type": "code",
   "execution_count": null,
   "id": "d5586db9",
   "metadata": {},
   "outputs": [],
   "source": [
    "class Doctor(Nurse):\n",
    "    def __init__(self):\n",
    "        self.specialty = None\n",
    "        super().__init__()\n",
    "        self.setSpl()\n",
    "    def setSpl(self):\n",
    "        self.specialty = input(\"Entre ur specialty : \")\n",
    "    def getSpl(self):\n",
    "        print(f\"ur specialty is : {self.specialty}\")"
   ]
  },
  {
   "cell_type": "code",
   "execution_count": null,
   "id": "960d7ae4",
   "metadata": {},
   "outputs": [],
   "source": [
    "class Panient(Human):\n",
    "    def __init__(self):\n",
    "        self.disease = None\n",
    "        super().__init__()\n",
    "        self.setDis()\n",
    "    def setDis(self):\n",
    "        self.disease = input(\"Entre ur Disease : \")\n",
    "    def getDis(self):\n",
    "        print(f\"ur Disease is : {self.disease}\")"
   ]
  },
  {
   "cell_type": "code",
   "execution_count": null,
   "id": "e6921461",
   "metadata": {},
   "outputs": [],
   "source": [
    "doc = Doctor()"
   ]
  },
  {
   "cell_type": "code",
   "execution_count": null,
   "id": "82ce8e68",
   "metadata": {},
   "outputs": [],
   "source": [
    "print(\"Menna Reda\")"
   ]
  }
 ],
 "metadata": {
  "kernelspec": {
   "display_name": "Python 3",
   "language": "python",
   "name": "python3"
  },
  "language_info": {
   "codemirror_mode": {
    "name": "ipython",
    "version": 3
   },
   "file_extension": ".py",
   "mimetype": "text/x-python",
   "name": "python",
   "nbconvert_exporter": "python",
   "pygments_lexer": "ipython3",
   "version": "3.8.8"
  }
 },
 "nbformat": 4,
 "nbformat_minor": 5
}
