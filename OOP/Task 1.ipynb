{
 "cells": [
  {
   "cell_type": "markdown",
   "id": "8e8d324d",
   "metadata": {},
   "source": [
    "<h1>task 1 : Have python abstract principleo r not ?</h1>"
   ]
  },
  {
   "cell_type": "markdown",
   "id": "52329156",
   "metadata": {},
   "source": [
    "ans : yes, it have a module that allows to made an abstract classes."
   ]
  },
  {
   "cell_type": "code",
   "execution_count": 132,
   "id": "41773381",
   "metadata": {},
   "outputs": [],
   "source": [
    "from abc import ABCMeta , abstractmethod"
   ]
  },
  {
   "cell_type": "code",
   "execution_count": 133,
   "id": "a529d966",
   "metadata": {},
   "outputs": [],
   "source": [
    "class student(metaclass=ABCMeta):\n",
    "    @abstractmethod\n",
    "    def p(self):\n",
    "        pass\n",
    "    @abstractmethod\n",
    "    def a(self):\n",
    "        pass"
   ]
  },
  {
   "cell_type": "code",
   "execution_count": 134,
   "id": "55e58200",
   "metadata": {},
   "outputs": [],
   "source": [
    "class std1(student):\n",
    "    def p(self):\n",
    "        print(\"Ahmed Ashraf\")\n",
    "    def a(self):\n",
    "        print(\"mohammed Ashraf\")"
   ]
  },
  {
   "cell_type": "code",
   "execution_count": 135,
   "id": "8986df59",
   "metadata": {},
   "outputs": [],
   "source": [
    "s = std1()"
   ]
  },
  {
   "cell_type": "code",
   "execution_count": 136,
   "id": "af07677e",
   "metadata": {},
   "outputs": [
    {
     "name": "stdout",
     "output_type": "stream",
     "text": [
      "Ahmed Ashraf\n"
     ]
    }
   ],
   "source": [
    "s.p()"
   ]
  },
  {
   "cell_type": "code",
   "execution_count": 137,
   "id": "e13c9e6a",
   "metadata": {},
   "outputs": [
    {
     "name": "stdout",
     "output_type": "stream",
     "text": [
      "mohammed Ashraf\n"
     ]
    }
   ],
   "source": [
    "s.a()"
   ]
  },
  {
   "cell_type": "code",
   "execution_count": null,
   "id": "e7a3649d",
   "metadata": {},
   "outputs": [],
   "source": []
  }
 ],
 "metadata": {
  "kernelspec": {
   "display_name": "Python 3",
   "language": "python",
   "name": "python3"
  },
  "language_info": {
   "codemirror_mode": {
    "name": "ipython",
    "version": 3
   },
   "file_extension": ".py",
   "mimetype": "text/x-python",
   "name": "python",
   "nbconvert_exporter": "python",
   "pygments_lexer": "ipython3",
   "version": "3.8.8"
  }
 },
 "nbformat": 4,
 "nbformat_minor": 5
}
