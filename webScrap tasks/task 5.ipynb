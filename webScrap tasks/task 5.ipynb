{
 "cells": [
  {
   "cell_type": "code",
   "execution_count": 68,
   "id": "1836e5e5",
   "metadata": {},
   "outputs": [],
   "source": [
    "from bs4 import BeautifulSoup\n",
    "import requests"
   ]
  },
  {
   "cell_type": "code",
   "execution_count": 93,
   "id": "287005e1",
   "metadata": {},
   "outputs": [],
   "source": [
    "req = requests.get(\"https://coreyms.com/page/2\").text"
   ]
  },
  {
   "cell_type": "code",
   "execution_count": 94,
   "id": "82d0fec4",
   "metadata": {},
   "outputs": [],
   "source": [
    "site = BeautifulSoup(req , \"lxml\")"
   ]
  },
  {
   "cell_type": "code",
   "execution_count": 95,
   "id": "5d46abf9",
   "metadata": {},
   "outputs": [],
   "source": [
    "article = site.find_all(\"article\")"
   ]
  },
  {
   "cell_type": "code",
   "execution_count": 97,
   "id": "73a4a79b",
   "metadata": {},
   "outputs": [
    {
     "name": "stdout",
     "output_type": "stream",
     "text": [
      "5 Common Python Mistakes and How to Fix Them\n",
      "In this Python Programming Tutorial, we will be going over some of the most common mistakes. I get a lot of questions from people every day, and I have seen a lot of people making these same mistakes in their code. So we will investigate each of these common mistakes and also look at the fixes for each other these as well. Here are the timestamps for each topic we will cover… 1) Indentation and Spaces – 0:45 2) Naming Conflicts – 4:12 3) Mutable Default Args – 10:05 4) Exhausting Iterators – 16:35 5) Importing with * – 22:13\n",
      "https://www.youtube.com/embed/zdJEYhA2AZQ?version=3&rel=1&showsearch=0&showinfo=1&iv_load_policy=1&fs=1&hl=en-US&autohide=2&wmode=transparent\n",
      "\n",
      "\n",
      "How I Setup a New Development Machine – Using Scripts to Automate Installs and Save Time\n",
      "In this video, I’ll be showing how I set up a new development machine. I recently got a new MacBook and wanted to show how I use scripts to automate a lot of this process. It used to take me a lot of time to install all of my software and get everything set up the way I like it. Now I use these automated scripts to do this in minutes. Let’s get started…\n",
      "https://www.youtube.com/embed/kIdiWut8eD8?version=3&rel=1&showsearch=0&showinfo=1&iv_load_policy=1&fs=1&hl=en-US&autohide=2&wmode=transparent\n",
      "\n",
      "\n",
      "How to Write Python Scripts to Analyze JSON APIs and Sort Results\n",
      "In this Python Programming Tutorial, we will be learning how to grab data from a JSON API, parse out the information we want, and then sort the data using a custom key. The API we will be using is a JSON API for Homebrew Packages and we will be sorting the packages by their popularity. We cover a lot of topics in this tutorial. We will be using the Requests Library, converting to/from JSON, reading and writing to files, writing our own sorting function, and more. Let’s get started…\n",
      "https://www.youtube.com/embed/1lxrb_ezP-g?version=3&rel=1&showsearch=0&showinfo=1&iv_load_policy=1&fs=1&hl=en-US&autohide=2&wmode=transparent\n",
      "\n",
      "\n",
      "Homebrew Tutorial: Simplify Software Installation on Mac Using This Package Manager\n",
      "In this video, we’ll be learning how to use the Homebrew Package Manager on MacOS. Brew allows us to easily install command-line tools with a simple command. We can also install native applications for Mac using Brew Cask. I often use these commands in scripts to install a lot of new software quickly and easily on new machines. Let’s get started…\n",
      "https://www.youtube.com/embed/SELYgZvAZbU?version=3&rel=1&showsearch=0&showinfo=1&iv_load_policy=1&fs=1&hl=en-US&autohide=2&wmode=transparent\n",
      "\n",
      "\n",
      "Python Tutorial: VENV (Windows) – How to Use Virtual Environments with the Built-In venv Module\n",
      "In this Python Programming Tutorial, we will be learning how to use virtual environments on the Windows operating systems with the built-in venv module. We will learn how to create them, activate them, remove them, and much more. Let’s get started…\n",
      "https://www.youtube.com/embed/APOPm01BVrk?version=3&rel=1&showsearch=0&showinfo=1&iv_load_policy=1&fs=1&hl=en-US&autohide=2&wmode=transparent\n",
      "\n",
      "\n"
     ]
    }
   ],
   "source": [
    "for art in article[:5]:\n",
    "    title = art.h2.a.text\n",
    "    print(title)\n",
    "    para = art.find(\"div\",class_=\"entry-content\").p.text\n",
    "    print(para)\n",
    "    videoLink = art.iframe.attrs['src']\n",
    "    print(videoLink)\n",
    "    print(\"\\n\")"
   ]
  },
  {
   "cell_type": "code",
   "execution_count": null,
   "id": "be162719",
   "metadata": {},
   "outputs": [],
   "source": []
  },
  {
   "cell_type": "code",
   "execution_count": null,
   "id": "1f7c5086",
   "metadata": {},
   "outputs": [],
   "source": []
  },
  {
   "cell_type": "code",
   "execution_count": null,
   "id": "bcd5bb91",
   "metadata": {},
   "outputs": [],
   "source": []
  }
 ],
 "metadata": {
  "kernelspec": {
   "display_name": "Python 3",
   "language": "python",
   "name": "python3"
  },
  "language_info": {
   "codemirror_mode": {
    "name": "ipython",
    "version": 3
   },
   "file_extension": ".py",
   "mimetype": "text/x-python",
   "name": "python",
   "nbconvert_exporter": "python",
   "pygments_lexer": "ipython3",
   "version": "3.8.8"
  }
 },
 "nbformat": 4,
 "nbformat_minor": 5
}
