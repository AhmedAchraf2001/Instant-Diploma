{
 "cells": [
  {
   "cell_type": "code",
   "execution_count": 31,
   "id": "df0343c0",
   "metadata": {},
   "outputs": [],
   "source": [
    "from selenium import webdriver\n",
    "import time"
   ]
  },
  {
   "cell_type": "code",
   "execution_count": 35,
   "id": "3cc19ec7",
   "metadata": {},
   "outputs": [],
   "source": [
    "ffx = webdriver.Firefox()"
   ]
  },
  {
   "cell_type": "code",
   "execution_count": 36,
   "id": "36658345",
   "metadata": {},
   "outputs": [],
   "source": [
    "ffx.get(\"https://github.com/\")"
   ]
  },
  {
   "cell_type": "code",
   "execution_count": 37,
   "id": "ed882dea",
   "metadata": {},
   "outputs": [],
   "source": [
    "btnSignin = ffx.find_element(\"xpath\",\"//a[@href = '/login']\")"
   ]
  },
  {
   "cell_type": "code",
   "execution_count": 38,
   "id": "e2ee6fa3",
   "metadata": {},
   "outputs": [],
   "source": [
    "btnSignin.click()"
   ]
  },
  {
   "cell_type": "code",
   "execution_count": 39,
   "id": "67f703d6",
   "metadata": {},
   "outputs": [],
   "source": [
    "userName = ffx.find_element(\"name\",\"login\")"
   ]
  },
  {
   "cell_type": "code",
   "execution_count": 40,
   "id": "8e5f7ff7",
   "metadata": {},
   "outputs": [],
   "source": [
    "password = ffx.find_element(\"name\",\"password\")"
   ]
  },
  {
   "cell_type": "code",
   "execution_count": 41,
   "id": "81dfceac",
   "metadata": {},
   "outputs": [],
   "source": [
    "btn = ffx.find_element(\"name\",\"commit\")"
   ]
  },
  {
   "cell_type": "code",
   "execution_count": 42,
   "id": "4725064e",
   "metadata": {},
   "outputs": [],
   "source": [
    "userName.send_keys(\" \") #Entre ur email"
   ]
  },
  {
   "cell_type": "code",
   "execution_count": 43,
   "id": "6b7b13c3",
   "metadata": {},
   "outputs": [],
   "source": [
    "password.send_keys(\" \") #Entre ur password"
   ]
  },
  {
   "cell_type": "code",
   "execution_count": 44,
   "id": "e26f02f6",
   "metadata": {},
   "outputs": [],
   "source": [
    "time.sleep(5)"
   ]
  },
  {
   "cell_type": "code",
   "execution_count": 45,
   "id": "8757d3ff",
   "metadata": {},
   "outputs": [],
   "source": [
    "btn.click()"
   ]
  },
  {
   "cell_type": "code",
   "execution_count": 46,
   "id": "32239795",
   "metadata": {},
   "outputs": [],
   "source": [
    "time.sleep(15)"
   ]
  },
  {
   "cell_type": "code",
   "execution_count": 47,
   "id": "3ee243d3",
   "metadata": {},
   "outputs": [],
   "source": [
    "ffx.quit()"
   ]
  }
 ],
 "metadata": {
  "kernelspec": {
   "display_name": "Python 3",
   "language": "python",
   "name": "python3"
  },
  "language_info": {
   "codemirror_mode": {
    "name": "ipython",
    "version": 3
   },
   "file_extension": ".py",
   "mimetype": "text/x-python",
   "name": "python",
   "nbconvert_exporter": "python",
   "pygments_lexer": "ipython3",
   "version": "3.8.8"
  }
 },
 "nbformat": 4,
 "nbformat_minor": 5
}
